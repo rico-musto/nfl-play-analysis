{
  "nbformat": 4,
  "nbformat_minor": 0,
  "metadata": {
    "colab": {
      "name": "python_nfl_capstone.ipynb",
      "provenance": []
    },
    "kernelspec": {
      "name": "python3",
      "display_name": "Python 3"
    }
  },
  "cells": [
    {
      "cell_type": "markdown",
      "metadata": {
        "id": "43ul2KyWq9Kw",
        "colab_type": "text"
      },
      "source": [
        "#**Examining NFL Offenses on Third Down**\n",
        "The National Football League (NFL) is the most popular sports league in the United States. The basis of play is that each team has four chances to advance the ball ten yards. The most important of these trys is the third, referred to as third down. If the offense fails to advance ten total yards by their third try, most teams will elect to punt the ball to the opposing team on their fourth and final try, effectively ending their offensive possession. Being successful on third down is crucial for NFL defenses to stop the opposing offense and gain possession of the ball for their own team.\n"
      ]
    },
    {
      "cell_type": "markdown",
      "metadata": {
        "id": "ZzYa6bVqraLM",
        "colab_type": "text"
      },
      "source": [
        "## Connecting to the Data Source\n",
        "The data set being used for this analysis contains every play that occured in the NFL from 2009-2018. This data was compiled by Carnegie Mellon University statistical researchers including Maksim Horowitz, Ron Yurko, and Sam Ventura. The data set contains around 450,000 rows and 250 columns and includes detailed information on game situation, players involved, results, and advanced metrics such as expected point and win probability values. The data was accessed through Kaggle at the following link: \n",
        "https://www.kaggle.com/maxhorowitz/nflplaybyplay2009to2016/download.\n",
        "\n",
        "The data used in this notebook has been mounted from Google Drive and placed into a DataFame. "
      ]
    },
    {
      "cell_type": "code",
      "metadata": {
        "id": "DJmhDqJbOfxK",
        "colab_type": "code",
        "outputId": "39ce5a3d-ac51-43d9-b2d7-abdb9c428961",
        "colab": {
          "base_uri": "https://localhost:8080/",
          "height": 35
        }
      },
      "source": [
        "from google.colab import drive\n",
        "drive.mount('/content/gdrive')\n"
      ],
      "execution_count": 0,
      "outputs": [
        {
          "output_type": "stream",
          "text": [
            "Drive already mounted at /content/gdrive; to attempt to forcibly remount, call drive.mount(\"/content/gdrive\", force_remount=True).\n"
          ],
          "name": "stdout"
        }
      ]
    },
    {
      "cell_type": "code",
      "metadata": {
        "id": "HekNfvY6S-BD",
        "colab_type": "code",
        "outputId": "57bea4bf-6eac-4d1b-a829-6873ac884faa",
        "colab": {
          "base_uri": "https://localhost:8080/",
          "height": 386
        }
      },
      "source": [
        "import pandas as pd\n",
        "from scipy import stats\n",
        "import seaborn as sns\n",
        "sns.set()\n",
        "\n",
        "nflplay_df = pd.read_csv('/content/gdrive/My Drive/Colab Datasets/NFL Play by Play 2009-2018 (v5).csv')\n",
        "\n",
        "nflplay_df.head(3)"
      ],
      "execution_count": 0,
      "outputs": [
        {
          "output_type": "stream",
          "text": [
            "/usr/local/lib/python3.6/dist-packages/IPython/core/interactiveshell.py:2718: DtypeWarning: Columns (42,166,167,168,169,174,175,178,179,182,183,188,189,190,191,194,195,203,204,205,218,219,220,231,232,233,238,240,241,249) have mixed types. Specify dtype option on import or set low_memory=False.\n",
            "  interactivity=interactivity, compiler=compiler, result=result)\n"
          ],
          "name": "stderr"
        },
        {
          "output_type": "execute_result",
          "data": {
            "text/html": [
              "<div>\n",
              "<style scoped>\n",
              "    .dataframe tbody tr th:only-of-type {\n",
              "        vertical-align: middle;\n",
              "    }\n",
              "\n",
              "    .dataframe tbody tr th {\n",
              "        vertical-align: top;\n",
              "    }\n",
              "\n",
              "    .dataframe thead th {\n",
              "        text-align: right;\n",
              "    }\n",
              "</style>\n",
              "<table border=\"1\" class=\"dataframe\">\n",
              "  <thead>\n",
              "    <tr style=\"text-align: right;\">\n",
              "      <th></th>\n",
              "      <th>play_id</th>\n",
              "      <th>game_id</th>\n",
              "      <th>home_team</th>\n",
              "      <th>away_team</th>\n",
              "      <th>posteam</th>\n",
              "      <th>posteam_type</th>\n",
              "      <th>defteam</th>\n",
              "      <th>side_of_field</th>\n",
              "      <th>yardline_100</th>\n",
              "      <th>game_date</th>\n",
              "      <th>quarter_seconds_remaining</th>\n",
              "      <th>half_seconds_remaining</th>\n",
              "      <th>game_seconds_remaining</th>\n",
              "      <th>game_half</th>\n",
              "      <th>quarter_end</th>\n",
              "      <th>drive</th>\n",
              "      <th>sp</th>\n",
              "      <th>qtr</th>\n",
              "      <th>down</th>\n",
              "      <th>goal_to_go</th>\n",
              "      <th>time</th>\n",
              "      <th>yrdln</th>\n",
              "      <th>ydstogo</th>\n",
              "      <th>ydsnet</th>\n",
              "      <th>desc</th>\n",
              "      <th>play_type</th>\n",
              "      <th>yards_gained</th>\n",
              "      <th>shotgun</th>\n",
              "      <th>no_huddle</th>\n",
              "      <th>qb_dropback</th>\n",
              "      <th>qb_kneel</th>\n",
              "      <th>qb_spike</th>\n",
              "      <th>qb_scramble</th>\n",
              "      <th>pass_length</th>\n",
              "      <th>pass_location</th>\n",
              "      <th>air_yards</th>\n",
              "      <th>yards_after_catch</th>\n",
              "      <th>run_location</th>\n",
              "      <th>run_gap</th>\n",
              "      <th>field_goal_result</th>\n",
              "      <th>...</th>\n",
              "      <th>assist_tackle_2_player_id</th>\n",
              "      <th>assist_tackle_2_player_name</th>\n",
              "      <th>assist_tackle_2_team</th>\n",
              "      <th>assist_tackle_3_player_id</th>\n",
              "      <th>assist_tackle_3_player_name</th>\n",
              "      <th>assist_tackle_3_team</th>\n",
              "      <th>assist_tackle_4_player_id</th>\n",
              "      <th>assist_tackle_4_player_name</th>\n",
              "      <th>assist_tackle_4_team</th>\n",
              "      <th>pass_defense_1_player_id</th>\n",
              "      <th>pass_defense_1_player_name</th>\n",
              "      <th>pass_defense_2_player_id</th>\n",
              "      <th>pass_defense_2_player_name</th>\n",
              "      <th>fumbled_1_team</th>\n",
              "      <th>fumbled_1_player_id</th>\n",
              "      <th>fumbled_1_player_name</th>\n",
              "      <th>fumbled_2_player_id</th>\n",
              "      <th>fumbled_2_player_name</th>\n",
              "      <th>fumbled_2_team</th>\n",
              "      <th>fumble_recovery_1_team</th>\n",
              "      <th>fumble_recovery_1_yards</th>\n",
              "      <th>fumble_recovery_1_player_id</th>\n",
              "      <th>fumble_recovery_1_player_name</th>\n",
              "      <th>fumble_recovery_2_team</th>\n",
              "      <th>fumble_recovery_2_yards</th>\n",
              "      <th>fumble_recovery_2_player_id</th>\n",
              "      <th>fumble_recovery_2_player_name</th>\n",
              "      <th>return_team</th>\n",
              "      <th>return_yards</th>\n",
              "      <th>penalty_team</th>\n",
              "      <th>penalty_player_id</th>\n",
              "      <th>penalty_player_name</th>\n",
              "      <th>penalty_yards</th>\n",
              "      <th>replay_or_challenge</th>\n",
              "      <th>replay_or_challenge_result</th>\n",
              "      <th>penalty_type</th>\n",
              "      <th>defensive_two_point_attempt</th>\n",
              "      <th>defensive_two_point_conv</th>\n",
              "      <th>defensive_extra_point_attempt</th>\n",
              "      <th>defensive_extra_point_conv</th>\n",
              "    </tr>\n",
              "  </thead>\n",
              "  <tbody>\n",
              "    <tr>\n",
              "      <th>0</th>\n",
              "      <td>46</td>\n",
              "      <td>2009091000</td>\n",
              "      <td>PIT</td>\n",
              "      <td>TEN</td>\n",
              "      <td>PIT</td>\n",
              "      <td>home</td>\n",
              "      <td>TEN</td>\n",
              "      <td>TEN</td>\n",
              "      <td>30.0</td>\n",
              "      <td>2009-09-10</td>\n",
              "      <td>900.0</td>\n",
              "      <td>1800.0</td>\n",
              "      <td>3600.0</td>\n",
              "      <td>Half1</td>\n",
              "      <td>0</td>\n",
              "      <td>1</td>\n",
              "      <td>0</td>\n",
              "      <td>1</td>\n",
              "      <td>NaN</td>\n",
              "      <td>0.0</td>\n",
              "      <td>15:00</td>\n",
              "      <td>TEN 30</td>\n",
              "      <td>0</td>\n",
              "      <td>0</td>\n",
              "      <td>R.Bironas kicks 67 yards from TEN 30 to PIT 3....</td>\n",
              "      <td>kickoff</td>\n",
              "      <td>0.0</td>\n",
              "      <td>0</td>\n",
              "      <td>0</td>\n",
              "      <td>0.0</td>\n",
              "      <td>0</td>\n",
              "      <td>0</td>\n",
              "      <td>0</td>\n",
              "      <td>NaN</td>\n",
              "      <td>NaN</td>\n",
              "      <td>NaN</td>\n",
              "      <td>NaN</td>\n",
              "      <td>NaN</td>\n",
              "      <td>NaN</td>\n",
              "      <td>NaN</td>\n",
              "      <td>...</td>\n",
              "      <td>NaN</td>\n",
              "      <td>NaN</td>\n",
              "      <td>NaN</td>\n",
              "      <td>NaN</td>\n",
              "      <td>NaN</td>\n",
              "      <td>NaN</td>\n",
              "      <td>NaN</td>\n",
              "      <td>NaN</td>\n",
              "      <td>NaN</td>\n",
              "      <td>NaN</td>\n",
              "      <td>NaN</td>\n",
              "      <td>NaN</td>\n",
              "      <td>NaN</td>\n",
              "      <td>NaN</td>\n",
              "      <td>NaN</td>\n",
              "      <td>NaN</td>\n",
              "      <td>NaN</td>\n",
              "      <td>NaN</td>\n",
              "      <td>NaN</td>\n",
              "      <td>NaN</td>\n",
              "      <td>NaN</td>\n",
              "      <td>NaN</td>\n",
              "      <td>NaN</td>\n",
              "      <td>NaN</td>\n",
              "      <td>NaN</td>\n",
              "      <td>NaN</td>\n",
              "      <td>NaN</td>\n",
              "      <td>PIT</td>\n",
              "      <td>39.0</td>\n",
              "      <td>NaN</td>\n",
              "      <td>NaN</td>\n",
              "      <td>NaN</td>\n",
              "      <td>NaN</td>\n",
              "      <td>0</td>\n",
              "      <td>NaN</td>\n",
              "      <td>NaN</td>\n",
              "      <td>0.0</td>\n",
              "      <td>0.0</td>\n",
              "      <td>0.0</td>\n",
              "      <td>0.0</td>\n",
              "    </tr>\n",
              "    <tr>\n",
              "      <th>1</th>\n",
              "      <td>68</td>\n",
              "      <td>2009091000</td>\n",
              "      <td>PIT</td>\n",
              "      <td>TEN</td>\n",
              "      <td>PIT</td>\n",
              "      <td>home</td>\n",
              "      <td>TEN</td>\n",
              "      <td>PIT</td>\n",
              "      <td>58.0</td>\n",
              "      <td>2009-09-10</td>\n",
              "      <td>893.0</td>\n",
              "      <td>1793.0</td>\n",
              "      <td>3593.0</td>\n",
              "      <td>Half1</td>\n",
              "      <td>0</td>\n",
              "      <td>1</td>\n",
              "      <td>0</td>\n",
              "      <td>1</td>\n",
              "      <td>1.0</td>\n",
              "      <td>0.0</td>\n",
              "      <td>14:53</td>\n",
              "      <td>PIT 42</td>\n",
              "      <td>10</td>\n",
              "      <td>5</td>\n",
              "      <td>(14:53) B.Roethlisberger pass short left to H....</td>\n",
              "      <td>pass</td>\n",
              "      <td>5.0</td>\n",
              "      <td>0</td>\n",
              "      <td>0</td>\n",
              "      <td>1.0</td>\n",
              "      <td>0</td>\n",
              "      <td>0</td>\n",
              "      <td>0</td>\n",
              "      <td>short</td>\n",
              "      <td>left</td>\n",
              "      <td>-3.0</td>\n",
              "      <td>8.0</td>\n",
              "      <td>NaN</td>\n",
              "      <td>NaN</td>\n",
              "      <td>NaN</td>\n",
              "      <td>...</td>\n",
              "      <td>NaN</td>\n",
              "      <td>NaN</td>\n",
              "      <td>NaN</td>\n",
              "      <td>NaN</td>\n",
              "      <td>NaN</td>\n",
              "      <td>NaN</td>\n",
              "      <td>NaN</td>\n",
              "      <td>NaN</td>\n",
              "      <td>NaN</td>\n",
              "      <td>NaN</td>\n",
              "      <td>NaN</td>\n",
              "      <td>NaN</td>\n",
              "      <td>NaN</td>\n",
              "      <td>NaN</td>\n",
              "      <td>NaN</td>\n",
              "      <td>NaN</td>\n",
              "      <td>NaN</td>\n",
              "      <td>NaN</td>\n",
              "      <td>NaN</td>\n",
              "      <td>NaN</td>\n",
              "      <td>NaN</td>\n",
              "      <td>NaN</td>\n",
              "      <td>NaN</td>\n",
              "      <td>NaN</td>\n",
              "      <td>NaN</td>\n",
              "      <td>NaN</td>\n",
              "      <td>NaN</td>\n",
              "      <td>NaN</td>\n",
              "      <td>0.0</td>\n",
              "      <td>NaN</td>\n",
              "      <td>NaN</td>\n",
              "      <td>NaN</td>\n",
              "      <td>NaN</td>\n",
              "      <td>0</td>\n",
              "      <td>NaN</td>\n",
              "      <td>NaN</td>\n",
              "      <td>0.0</td>\n",
              "      <td>0.0</td>\n",
              "      <td>0.0</td>\n",
              "      <td>0.0</td>\n",
              "    </tr>\n",
              "    <tr>\n",
              "      <th>2</th>\n",
              "      <td>92</td>\n",
              "      <td>2009091000</td>\n",
              "      <td>PIT</td>\n",
              "      <td>TEN</td>\n",
              "      <td>PIT</td>\n",
              "      <td>home</td>\n",
              "      <td>TEN</td>\n",
              "      <td>PIT</td>\n",
              "      <td>53.0</td>\n",
              "      <td>2009-09-10</td>\n",
              "      <td>856.0</td>\n",
              "      <td>1756.0</td>\n",
              "      <td>3556.0</td>\n",
              "      <td>Half1</td>\n",
              "      <td>0</td>\n",
              "      <td>1</td>\n",
              "      <td>0</td>\n",
              "      <td>1</td>\n",
              "      <td>2.0</td>\n",
              "      <td>0.0</td>\n",
              "      <td>14:16</td>\n",
              "      <td>PIT 47</td>\n",
              "      <td>5</td>\n",
              "      <td>2</td>\n",
              "      <td>(14:16) W.Parker right end to PIT 44 for -3 ya...</td>\n",
              "      <td>run</td>\n",
              "      <td>-3.0</td>\n",
              "      <td>0</td>\n",
              "      <td>0</td>\n",
              "      <td>0.0</td>\n",
              "      <td>0</td>\n",
              "      <td>0</td>\n",
              "      <td>0</td>\n",
              "      <td>NaN</td>\n",
              "      <td>NaN</td>\n",
              "      <td>NaN</td>\n",
              "      <td>NaN</td>\n",
              "      <td>right</td>\n",
              "      <td>end</td>\n",
              "      <td>NaN</td>\n",
              "      <td>...</td>\n",
              "      <td>NaN</td>\n",
              "      <td>NaN</td>\n",
              "      <td>NaN</td>\n",
              "      <td>NaN</td>\n",
              "      <td>NaN</td>\n",
              "      <td>NaN</td>\n",
              "      <td>NaN</td>\n",
              "      <td>NaN</td>\n",
              "      <td>NaN</td>\n",
              "      <td>NaN</td>\n",
              "      <td>NaN</td>\n",
              "      <td>NaN</td>\n",
              "      <td>NaN</td>\n",
              "      <td>NaN</td>\n",
              "      <td>NaN</td>\n",
              "      <td>NaN</td>\n",
              "      <td>NaN</td>\n",
              "      <td>NaN</td>\n",
              "      <td>NaN</td>\n",
              "      <td>NaN</td>\n",
              "      <td>NaN</td>\n",
              "      <td>NaN</td>\n",
              "      <td>NaN</td>\n",
              "      <td>NaN</td>\n",
              "      <td>NaN</td>\n",
              "      <td>NaN</td>\n",
              "      <td>NaN</td>\n",
              "      <td>NaN</td>\n",
              "      <td>0.0</td>\n",
              "      <td>NaN</td>\n",
              "      <td>NaN</td>\n",
              "      <td>NaN</td>\n",
              "      <td>NaN</td>\n",
              "      <td>0</td>\n",
              "      <td>NaN</td>\n",
              "      <td>NaN</td>\n",
              "      <td>0.0</td>\n",
              "      <td>0.0</td>\n",
              "      <td>0.0</td>\n",
              "      <td>0.0</td>\n",
              "    </tr>\n",
              "  </tbody>\n",
              "</table>\n",
              "<p>3 rows × 255 columns</p>\n",
              "</div>"
            ],
            "text/plain": [
              "   play_id  ...  defensive_extra_point_conv\n",
              "0       46  ...                         0.0\n",
              "1       68  ...                         0.0\n",
              "2       92  ...                         0.0\n",
              "\n",
              "[3 rows x 255 columns]"
            ]
          },
          "metadata": {
            "tags": []
          },
          "execution_count": 22
        }
      ]
    },
    {
      "cell_type": "markdown",
      "metadata": {
        "id": "FnWRlj9FukTG",
        "colab_type": "text"
      },
      "source": [
        "## Cleaning and Wrangling the Data\n",
        "The current DataFrame contains all plays, from first to fourth down attempts. This analysis solely looks at third down, so a new DataFrame is created with only third down plays. Plays where there are null values for 'rush_attempt' or 'pass_attempt' are dropped. "
      ]
    },
    {
      "cell_type": "code",
      "metadata": {
        "id": "zkiNUycOUKve",
        "colab_type": "code",
        "colab": {}
      },
      "source": [
        "#cleaning dataframe to only 3rd down plays\n",
        "third_down_plays = nflplay_df['down'] == 3 \n",
        "nflplay_third_df = nflplay_df.iloc[third_down_plays.values]\n",
        "nflplay_third_df_clean = nflplay_third_df.dropna(subset=['rush_attempt', 'pass_attempt'])\n"
      ],
      "execution_count": 0,
      "outputs": []
    },
    {
      "cell_type": "markdown",
      "metadata": {
        "id": "62UgkqbDyEcI",
        "colab_type": "text"
      },
      "source": [
        "A second DataFrame is also created that shows the distance to go, whether the team with posession is winning or losing, and both the percentage of a rushing play or passing play. "
      ]
    },
    {
      "cell_type": "code",
      "metadata": {
        "id": "4I5EccvRyCDO",
        "colab_type": "code",
        "outputId": "3d791523-648a-47ce-d111-4c915861f33b",
        "colab": {
          "base_uri": "https://localhost:8080/",
          "height": 206
        }
      },
      "source": [
        "# creating empty list to house third down data\n",
        "tddf = []\n",
        "\n",
        "# third down plays while possesion team is winning\n",
        "def thirddowndataframewinning(data, distance):\n",
        "  # clean data based on third down, distance, and team winning\n",
        "  tdp = (data['down'] == 3) & (data['ydstogo'] == distance) & (data['score_differential'] > 0)\n",
        "  nptd = data.iloc[tdp.values]\n",
        "  nptdc = nptd.dropna(subset=['rush_attempt', 'pass_attempt'])\n",
        "  # place data into a list\n",
        "  row = [distance, 'winning', round((nptdc['rush_attempt'].mean() * 100),2), round((nptdc['pass_attempt'].mean() * 100),2)]\n",
        "  # append list to third down data\n",
        "  tddf.append(row)\n",
        "\n",
        "\n",
        "# third down plays while possesion team is losing\n",
        "def thirddowndataframelosing(data, distance):\n",
        "  # clean data based on third down, distance, and team losing\n",
        "  tdp = (data['down'] == 3) & (data['ydstogo'] == distance) & (data['score_differential'] < 0)\n",
        "  nptd = data.iloc[tdp.values]\n",
        "  nptdc = nptd.dropna(subset=['rush_attempt', 'pass_attempt'])\n",
        "  # place data into a list\n",
        "  row = [distance, 'losing', round((nptdc['rush_attempt'].mean() * 100),2), round((nptdc['pass_attempt'].mean() * 100),2)]\n",
        "  # append list to third down data\n",
        "  tddf.append(row)\n",
        "\n",
        "# loop over distance to go between 1 and 10\n",
        "for distance in range(1,11):\n",
        "  thirddowndataframewinning(nflplay_df, distance)\n",
        "\n",
        "for distance in range(1,11):\n",
        "  thirddowndataframelosing(nflplay_df, distance)\n",
        "\n",
        "# create dataframe from list\n",
        "thirddown_df = pd.DataFrame(tddf, columns=['distance','score','rush_percentage','pass_percentage'])\n",
        "\n",
        "thirddown_df.head()"
      ],
      "execution_count": 0,
      "outputs": [
        {
          "output_type": "execute_result",
          "data": {
            "text/html": [
              "<div>\n",
              "<style scoped>\n",
              "    .dataframe tbody tr th:only-of-type {\n",
              "        vertical-align: middle;\n",
              "    }\n",
              "\n",
              "    .dataframe tbody tr th {\n",
              "        vertical-align: top;\n",
              "    }\n",
              "\n",
              "    .dataframe thead th {\n",
              "        text-align: right;\n",
              "    }\n",
              "</style>\n",
              "<table border=\"1\" class=\"dataframe\">\n",
              "  <thead>\n",
              "    <tr style=\"text-align: right;\">\n",
              "      <th></th>\n",
              "      <th>distance</th>\n",
              "      <th>score</th>\n",
              "      <th>rush_percentage</th>\n",
              "      <th>pass_percentage</th>\n",
              "    </tr>\n",
              "  </thead>\n",
              "  <tbody>\n",
              "    <tr>\n",
              "      <th>0</th>\n",
              "      <td>1</td>\n",
              "      <td>winning</td>\n",
              "      <td>71.17</td>\n",
              "      <td>23.33</td>\n",
              "    </tr>\n",
              "    <tr>\n",
              "      <th>1</th>\n",
              "      <td>2</td>\n",
              "      <td>winning</td>\n",
              "      <td>36.32</td>\n",
              "      <td>55.94</td>\n",
              "    </tr>\n",
              "    <tr>\n",
              "      <th>2</th>\n",
              "      <td>3</td>\n",
              "      <td>winning</td>\n",
              "      <td>20.92</td>\n",
              "      <td>69.38</td>\n",
              "    </tr>\n",
              "    <tr>\n",
              "      <th>3</th>\n",
              "      <td>4</td>\n",
              "      <td>winning</td>\n",
              "      <td>17.52</td>\n",
              "      <td>73.59</td>\n",
              "    </tr>\n",
              "    <tr>\n",
              "      <th>4</th>\n",
              "      <td>5</td>\n",
              "      <td>winning</td>\n",
              "      <td>15.83</td>\n",
              "      <td>74.69</td>\n",
              "    </tr>\n",
              "  </tbody>\n",
              "</table>\n",
              "</div>"
            ],
            "text/plain": [
              "   distance    score  rush_percentage  pass_percentage\n",
              "0         1  winning            71.17            23.33\n",
              "1         2  winning            36.32            55.94\n",
              "2         3  winning            20.92            69.38\n",
              "3         4  winning            17.52            73.59\n",
              "4         5  winning            15.83            74.69"
            ]
          },
          "metadata": {
            "tags": []
          },
          "execution_count": 24
        }
      ]
    },
    {
      "cell_type": "markdown",
      "metadata": {
        "id": "NTUEdjwkyyUP",
        "colab_type": "text"
      },
      "source": [
        "## Exploratory Data Analysis\n",
        "**Do teams run or pass more on third down?**\n",
        "\n",
        "The null hypothesis for the analysis is that there is no difference in the percentage of run plays or pass plays. For all third down plays, 19.57% plays are rush attempts, and 71.96% are passings plays. The difference in percentage is statistically significant with a p-value of 0. The null hypothesis is rejected and it is determenined that teams attempt pass plays more often on third down than running plays."
      ]
    },
    {
      "cell_type": "code",
      "metadata": {
        "id": "04Z0W8obynwI",
        "colab_type": "code",
        "outputId": "01ce9dcb-5123-4b00-d85d-aa815d0bfa2f",
        "colab": {
          "base_uri": "https://localhost:8080/",
          "height": 72
        }
      },
      "source": [
        "# percentage of run and pass plays on all 3rd down plays\n",
        "print(nflplay_third_df_clean['rush_attempt'].mean())\n",
        "print(nflplay_third_df_clean['pass_attempt'].mean())\n",
        "\n",
        "print(stats.ttest_ind(nflplay_third_df_clean['rush_attempt'], nflplay_third_df_clean['pass_attempt']))"
      ],
      "execution_count": 0,
      "outputs": [
        {
          "output_type": "stream",
          "text": [
            "0.19573021227022122\n",
            "0.719632624862844\n",
            "Ttest_indResult(statistic=-237.50923210119956, pvalue=0.0)\n"
          ],
          "name": "stdout"
        }
      ]
    },
    {
      "cell_type": "markdown",
      "metadata": {
        "id": "EDGlV7rBzBPF",
        "colab_type": "text"
      },
      "source": [
        "## Deep-Dive Data Analysis\n",
        "Not all third downs are created equally. Teams can be put into drastically different third down scenarios. Teams can face a short third down attempt, with only two yards to go or be stuck in a long third and eight yard try. They could have possession of the ball with the lead or could be trying to come back from a deficit. "
      ]
    },
    {
      "cell_type": "markdown",
      "metadata": {
        "id": "7fCJg0OM6CDb",
        "colab_type": "text"
      },
      "source": [
        "### Third Down from Multiple Distances\n",
        "**Do teams run or pass more based on the yards to go on third down?**\n",
        "\n",
        "The null hypothesis for the analysis is that there is no difference in the percentage of run plays or pass plays for 3rd & 1 through 3rd & 10. Each scenario has a statistically significant difference between the percentage of rush and pass plays. The null hypothesis is rejected and the following is determined:\n",
        "\n",
        "\n",
        "\n",
        "*   Teams are more likely to run than pass on 3rd Down with 1 yard to go.\n",
        "*   Teams are more likely to pass than run on 3rd Down with between 2 and 10 yards to go.\n",
        "\n"
      ]
    },
    {
      "cell_type": "code",
      "metadata": {
        "id": "yvoYllYqArPc",
        "colab_type": "code",
        "outputId": "4b1e2692-7c99-424c-8a2e-5b762b346c49",
        "colab": {
          "base_uri": "https://localhost:8080/",
          "height": 1000
        }
      },
      "source": [
        "def thirddownanalyze(data, distance):\n",
        "  tdp = (data['down'] == 3) & (data['ydstogo'] == distance)\n",
        "  nptd = data.iloc[tdp.values]\n",
        "  nptdc = nptd.dropna(subset=['rush_attempt', 'pass_attempt'])\n",
        "  print('Statistical Results for 3rd Down & {} yard(s) to go:'.format(distance))\n",
        "  print('Rush percentage:')\n",
        "  print(round((nptdc['rush_attempt'].mean() * 100),2),'%')\n",
        "  print('Pass percetage:')\n",
        "  print(round((nptdc['pass_attempt'].mean() * 100),2),'%')\n",
        "  print('Statistical testing for difference in percentage:')\n",
        "  print(stats.ttest_ind(nptdc['rush_attempt'], nptdc['pass_attempt']))\n",
        "\n",
        "for distance in range(1,11):\n",
        "  thirddownanalyze(nflplay_df, distance)\n",
        "  print('')"
      ],
      "execution_count": 0,
      "outputs": [
        {
          "output_type": "stream",
          "text": [
            "Statistical Results for 3rd Down & 1 yard(s) to go:\n",
            "Rush percentage:\n",
            "67.44 %\n",
            "Pass percetage:\n",
            "26.81 %\n",
            "Statistical testing for difference in percentage:\n",
            "Ttest_indResult(statistic=56.106972569535344, pvalue=0.0)\n",
            "\n",
            "Statistical Results for 3rd Down & 2 yard(s) to go:\n",
            "Rush percentage:\n",
            "30.67 %\n",
            "Pass percetage:\n",
            "61.98 %\n",
            "Statistical testing for difference in percentage:\n",
            "Ttest_indResult(statistic=-35.3485440911856, pvalue=7.660282267677213e-260)\n",
            "\n",
            "Statistical Results for 3rd Down & 3 yard(s) to go:\n",
            "Rush percentage:\n",
            "16.4 %\n",
            "Pass percetage:\n",
            "75.12 %\n",
            "Statistical testing for difference in percentage:\n",
            "Ttest_indResult(statistic=-77.78062596361312, pvalue=0.0)\n",
            "\n",
            "Statistical Results for 3rd Down & 4 yard(s) to go:\n",
            "Rush percentage:\n",
            "13.04 %\n",
            "Pass percetage:\n",
            "77.69 %\n",
            "Statistical testing for difference in percentage:\n",
            "Ttest_indResult(statistic=-93.24784513872797, pvalue=0.0)\n",
            "\n",
            "Statistical Results for 3rd Down & 5 yard(s) to go:\n",
            "Rush percentage:\n",
            "10.98 %\n",
            "Pass percetage:\n",
            "79.88 %\n",
            "Statistical testing for difference in percentage:\n",
            "Ttest_indResult(statistic=-106.05265637029237, pvalue=0.0)\n",
            "\n",
            "Statistical Results for 3rd Down & 6 yard(s) to go:\n",
            "Rush percentage:\n",
            "10.04 %\n",
            "Pass percetage:\n",
            "80.57 %\n",
            "Statistical testing for difference in percentage:\n",
            "Ttest_indResult(statistic=-109.32620986762495, pvalue=0.0)\n",
            "\n",
            "Statistical Results for 3rd Down & 7 yard(s) to go:\n",
            "Rush percentage:\n",
            "9.92 %\n",
            "Pass percetage:\n",
            "80.53 %\n",
            "Statistical testing for difference in percentage:\n",
            "Ttest_indResult(statistic=-107.0146600402371, pvalue=0.0)\n",
            "\n",
            "Statistical Results for 3rd Down & 8 yard(s) to go:\n",
            "Rush percentage:\n",
            "9.16 %\n",
            "Pass percetage:\n",
            "80.93 %\n",
            "Statistical testing for difference in percentage:\n",
            "Ttest_indResult(statistic=-105.91661233095546, pvalue=0.0)\n",
            "\n",
            "Statistical Results for 3rd Down & 9 yard(s) to go:\n",
            "Rush percentage:\n",
            "9.93 %\n",
            "Pass percetage:\n",
            "81.02 %\n",
            "Statistical testing for difference in percentage:\n",
            "Ttest_indResult(statistic=-95.91501812747232, pvalue=0.0)\n",
            "\n",
            "Statistical Results for 3rd Down & 10 yard(s) to go:\n",
            "Rush percentage:\n",
            "8.68 %\n",
            "Pass percetage:\n",
            "81.55 %\n",
            "Statistical testing for difference in percentage:\n",
            "Ttest_indResult(statistic=-127.15903282241725, pvalue=0.0)\n",
            "\n"
          ],
          "name": "stdout"
        }
      ]
    },
    {
      "cell_type": "markdown",
      "metadata": {
        "id": "A8YHeobl8cLP",
        "colab_type": "text"
      },
      "source": [
        "### Third Down While Winning\n",
        "**Do teams run or pass more on third down while they are winning?**\n",
        "\n",
        "The null hypothesis for the analysis is that there is no difference in the percentage of run plays or pass plays for 3rd & 1 through 3rd & 10 while teams are winning. Each scenario has a statistically significant difference between the percentage of rush and pass plays. The null hypothesis is rejected and the following is determined:\n",
        "\n",
        "* Teams that are winning are more likely to run than pass on 3rd Down with 1 yard to go.\n",
        "* Teams that are winning are more likely to pass than run on 3rd Down with between 2 and 10 yards to go.\n"
      ]
    },
    {
      "cell_type": "code",
      "metadata": {
        "id": "j7V6SqLU_uws",
        "colab_type": "code",
        "outputId": "0eb03da0-5498-4721-c45e-0ce2ce2925e4",
        "colab": {
          "base_uri": "https://localhost:8080/",
          "height": 1000
        }
      },
      "source": [
        "def thirddownanalyzewinning(data, distance):\n",
        "  tdp = (data['down'] == 3) & (data['ydstogo'] == distance) & (data['score_differential'] > 0)\n",
        "  nptd = data.iloc[tdp.values]\n",
        "  nptdc = nptd.dropna(subset=['rush_attempt', 'pass_attempt'])\n",
        "  print('Statistical Results for 3rd Down & {} yard(s) to go:'.format(distance))\n",
        "  print('Rush percentage:')\n",
        "  print(round((nptdc['rush_attempt'].mean() * 100),2),'%')\n",
        "  print('Pass percetage:')\n",
        "  print(round((nptdc['pass_attempt'].mean() * 100),2),'%')\n",
        "  print('Statistical testing for difference in percentage:')\n",
        "  print(stats.ttest_ind(nptdc['rush_attempt'], nptdc['pass_attempt']))\n",
        "\n",
        "for distance in range(1,11):\n",
        "  thirddownanalyzewinning(nflplay_df, distance)\n",
        "  print('')"
      ],
      "execution_count": 0,
      "outputs": [
        {
          "output_type": "stream",
          "text": [
            "Statistical Results for 3rd Down & 1 yard(s) to go:\n",
            "Rush percentage:\n",
            "71.17 %\n",
            "Pass percetage:\n",
            "23.33 %\n",
            "Statistical testing for difference in percentage:\n",
            "Ttest_indResult(statistic=41.101334362848135, pvalue=0.0)\n",
            "\n",
            "Statistical Results for 3rd Down & 2 yard(s) to go:\n",
            "Rush percentage:\n",
            "36.32 %\n",
            "Pass percetage:\n",
            "55.94 %\n",
            "Statistical testing for difference in percentage:\n",
            "Ttest_indResult(statistic=-12.621749092499824, pvalue=7.804328529568278e-36)\n",
            "\n",
            "Statistical Results for 3rd Down & 3 yard(s) to go:\n",
            "Rush percentage:\n",
            "20.92 %\n",
            "Pass percetage:\n",
            "69.38 %\n",
            "Statistical testing for difference in percentage:\n",
            "Ttest_indResult(statistic=-35.69731140789131, pvalue=2.851223019362691e-243)\n",
            "\n",
            "Statistical Results for 3rd Down & 4 yard(s) to go:\n",
            "Rush percentage:\n",
            "17.52 %\n",
            "Pass percetage:\n",
            "73.59 %\n",
            "Statistical testing for difference in percentage:\n",
            "Ttest_indResult(statistic=-45.3251492493588, pvalue=0.0)\n",
            "\n",
            "Statistical Results for 3rd Down & 5 yard(s) to go:\n",
            "Rush percentage:\n",
            "15.83 %\n",
            "Pass percetage:\n",
            "74.69 %\n",
            "Statistical testing for difference in percentage:\n",
            "Ttest_indResult(statistic=-49.369162505370525, pvalue=0.0)\n",
            "\n",
            "Statistical Results for 3rd Down & 6 yard(s) to go:\n",
            "Rush percentage:\n",
            "14.77 %\n",
            "Pass percetage:\n",
            "75.82 %\n",
            "Statistical testing for difference in percentage:\n",
            "Ttest_indResult(statistic=-51.733405732885, pvalue=0.0)\n",
            "\n",
            "Statistical Results for 3rd Down & 7 yard(s) to go:\n",
            "Rush percentage:\n",
            "15.8 %\n",
            "Pass percetage:\n",
            "75.02 %\n",
            "Statistical testing for difference in percentage:\n",
            "Ttest_indResult(statistic=-48.46014791345615, pvalue=0.0)\n",
            "\n",
            "Statistical Results for 3rd Down & 8 yard(s) to go:\n",
            "Rush percentage:\n",
            "13.71 %\n",
            "Pass percetage:\n",
            "76.63 %\n",
            "Statistical testing for difference in percentage:\n",
            "Ttest_indResult(statistic=-51.29357299004368, pvalue=0.0)\n",
            "\n",
            "Statistical Results for 3rd Down & 9 yard(s) to go:\n",
            "Rush percentage:\n",
            "16.34 %\n",
            "Pass percetage:\n",
            "74.13 %\n",
            "Statistical testing for difference in percentage:\n",
            "Ttest_indResult(statistic=-41.42287985778651, pvalue=1.2889486657617571e-303)\n",
            "\n",
            "Statistical Results for 3rd Down & 10 yard(s) to go:\n",
            "Rush percentage:\n",
            "13.26 %\n",
            "Pass percetage:\n",
            "76.95 %\n",
            "Statistical testing for difference in percentage:\n",
            "Ttest_indResult(statistic=-54.01219913520187, pvalue=0.0)\n",
            "\n"
          ],
          "name": "stdout"
        }
      ]
    },
    {
      "cell_type": "markdown",
      "metadata": {
        "id": "ckgQ9B7y8rst",
        "colab_type": "text"
      },
      "source": [
        "### Third Down While Losing\n",
        "**Do teams run or pass more on third down while they are losing?**\n",
        "\n",
        "The null hypothesis for the analysis is that there is no difference in the percentage of run plays or pass plays for 3rd & 1 through 3rd & 10 while teams are losing. Each scenario has a statistically significant difference between the percentage of rush and pass plays. The null hypothesis is rejected and the following is determined:\n",
        "\n",
        "* Teams that are losing are more likely to run than pass on 3rd Down with 1 yard to go.\n",
        "* Teams that are losing are more likely to pass than run on 3rd Down with between 2 and 10 yards to go.\n"
      ]
    },
    {
      "cell_type": "code",
      "metadata": {
        "id": "JG6Yw32CEWpX",
        "colab_type": "code",
        "outputId": "6aaaff7e-36e2-454e-b9d0-01794d9dcabd",
        "colab": {
          "base_uri": "https://localhost:8080/",
          "height": 1000
        }
      },
      "source": [
        "def thirddownanalyzelosing(data, distance):\n",
        "  tdp = (data['down'] == 3) & (data['ydstogo'] == distance) & (data['score_differential'] < 0)\n",
        "  nptd = data.iloc[tdp.values]\n",
        "  nptdc = nptd.dropna(subset=['rush_attempt', 'pass_attempt'])\n",
        "  print('Statistical Results for 3rd Down & {} yard(s) to go:'.format(distance))\n",
        "  print('Rush percentage:')\n",
        "  print(round((nptdc['rush_attempt'].mean() * 100),2),'%')\n",
        "  print('Pass percetage:')\n",
        "  print(round((nptdc['pass_attempt'].mean() * 100),2),'%')\n",
        "  print('Statistical testing for difference in percentage:')\n",
        "  print(stats.ttest_ind(nptdc['rush_attempt'], nptdc['pass_attempt']))\n",
        "\n",
        "for distance in range(1,11):\n",
        "  thirddownanalyzelosing(nflplay_df, distance)\n",
        "  print('')"
      ],
      "execution_count": 0,
      "outputs": [
        {
          "output_type": "stream",
          "text": [
            "Statistical Results for 3rd Down & 1 yard(s) to go:\n",
            "Rush percentage:\n",
            "62.33 %\n",
            "Pass percetage:\n",
            "31.74 %\n",
            "Statistical testing for difference in percentage:\n",
            "Ttest_indResult(statistic=27.096200259505476, pvalue=6.157772383247721e-154)\n",
            "\n",
            "Statistical Results for 3rd Down & 2 yard(s) to go:\n",
            "Rush percentage:\n",
            "27.39 %\n",
            "Pass percetage:\n",
            "65.61 %\n",
            "Statistical testing for difference in percentage:\n",
            "Ttest_indResult(statistic=-29.819445055301056, pvalue=1.9781732306304876e-180)\n",
            "\n",
            "Statistical Results for 3rd Down & 3 yard(s) to go:\n",
            "Rush percentage:\n",
            "13.9 %\n",
            "Pass percetage:\n",
            "78.21 %\n",
            "Statistical testing for difference in percentage:\n",
            "Ttest_indResult(statistic=-59.62937077308785, pvalue=0.0)\n",
            "\n",
            "Statistical Results for 3rd Down & 4 yard(s) to go:\n",
            "Rush percentage:\n",
            "9.22 %\n",
            "Pass percetage:\n",
            "80.83 %\n",
            "Statistical testing for difference in percentage:\n",
            "Ttest_indResult(statistic=-74.90279325560269, pvalue=0.0)\n",
            "\n",
            "Statistical Results for 3rd Down & 5 yard(s) to go:\n",
            "Rush percentage:\n",
            "8.08 %\n",
            "Pass percetage:\n",
            "82.97 %\n",
            "Statistical testing for difference in percentage:\n",
            "Ttest_indResult(statistic=-83.35509137605305, pvalue=0.0)\n",
            "\n",
            "Statistical Results for 3rd Down & 6 yard(s) to go:\n",
            "Rush percentage:\n",
            "6.97 %\n",
            "Pass percetage:\n",
            "83.9 %\n",
            "Statistical testing for difference in percentage:\n",
            "Ttest_indResult(statistic=-86.73587227453565, pvalue=0.0)\n",
            "\n",
            "Statistical Results for 3rd Down & 7 yard(s) to go:\n",
            "Rush percentage:\n",
            "5.98 %\n",
            "Pass percetage:\n",
            "84.6 %\n",
            "Statistical testing for difference in percentage:\n",
            "Ttest_indResult(statistic=-88.35373702947632, pvalue=0.0)\n",
            "\n",
            "Statistical Results for 3rd Down & 8 yard(s) to go:\n",
            "Rush percentage:\n",
            "6.04 %\n",
            "Pass percetage:\n",
            "84.23 %\n",
            "Statistical testing for difference in percentage:\n",
            "Ttest_indResult(statistic=-83.62166892090299, pvalue=0.0)\n",
            "\n",
            "Statistical Results for 3rd Down & 9 yard(s) to go:\n",
            "Rush percentage:\n",
            "4.94 %\n",
            "Pass percetage:\n",
            "86.63 %\n",
            "Statistical testing for difference in percentage:\n",
            "Ttest_indResult(statistic=-87.38768336810752, pvalue=0.0)\n",
            "\n",
            "Statistical Results for 3rd Down & 10 yard(s) to go:\n",
            "Rush percentage:\n",
            "6.41 %\n",
            "Pass percetage:\n",
            "83.68 %\n",
            "Statistical testing for difference in percentage:\n",
            "Ttest_indResult(statistic=-106.36338120192394, pvalue=0.0)\n",
            "\n"
          ],
          "name": "stdout"
        }
      ]
    },
    {
      "cell_type": "markdown",
      "metadata": {
        "id": "zI7DMQGX84nx",
        "colab_type": "text"
      },
      "source": [
        "## Visualizing the Analysis\n",
        "Results from the analysis are placed into two scatterplots showing the percentage of a rushing play and a passing play. Each scatterplot breaks that data between whether the team with possession of the ball is winning or losing and shows this over distance to go. \n",
        "\n"
      ]
    },
    {
      "cell_type": "markdown",
      "metadata": {
        "id": "ClLOpGVQ9C5T",
        "colab_type": "text"
      },
      "source": [
        "### Rush Percentage Scatterplot"
      ]
    },
    {
      "cell_type": "code",
      "metadata": {
        "id": "R9xFOdJtLQzg",
        "colab_type": "code",
        "outputId": "c4f7c4a8-f044-43f3-c158-e33c90534ce8",
        "colab": {
          "base_uri": "https://localhost:8080/",
          "height": 303
        }
      },
      "source": [
        "sns.scatterplot(x=\"distance\", y='rush_percentage', hue=\"score\", data=thirddown_df)"
      ],
      "execution_count": 0,
      "outputs": [
        {
          "output_type": "execute_result",
          "data": {
            "text/plain": [
              "<matplotlib.axes._subplots.AxesSubplot at 0x7fb20726a6a0>"
            ]
          },
          "metadata": {
            "tags": []
          },
          "execution_count": 29
        },
        {
          "output_type": "display_data",
          "data": {
            "image/png": "[encoded data removed]",
            "text/plain": [
              "<Figure size 432x288 with 1 Axes>"
            ]
          },
          "metadata": {
            "tags": []
          }
        }
      ]
    },
    {
      "cell_type": "markdown",
      "metadata": {
        "id": "C-7PvZr-9Ktm",
        "colab_type": "text"
      },
      "source": [
        "### Pass Percentage Scatterplot"
      ]
    },
    {
      "cell_type": "code",
      "metadata": {
        "id": "t2X0FoayMq_Y",
        "colab_type": "code",
        "outputId": "7e88b303-c484-480b-b5c6-8dbe472fd6d9",
        "colab": {
          "base_uri": "https://localhost:8080/",
          "height": 303
        }
      },
      "source": [
        "sns.scatterplot(x=\"distance\", y='pass_percentage', hue=\"score\", data=thirddown_df)"
      ],
      "execution_count": 0,
      "outputs": [
        {
          "output_type": "execute_result",
          "data": {
            "text/plain": [
              "<matplotlib.axes._subplots.AxesSubplot at 0x7fb1f483d160>"
            ]
          },
          "metadata": {
            "tags": []
          },
          "execution_count": 30
        },
        {
          "output_type": "display_data",
          "data": {
            "image/png": "[encoded data removed]",
            "text/plain": [
              "<Figure size 432x288 with 1 Axes>"
            ]
          },
          "metadata": {
            "tags": []
          }
        }
      ]
    },
    {
      "cell_type": "markdown",
      "metadata": {
        "id": "qw3Y082S9k8g",
        "colab_type": "text"
      },
      "source": [
        "## Results\n",
        "Results from this analysis are useful to NFL defenses and allow them to better defend crucial third down plays. The main takeways that NFL defenses can use are as follows:\n",
        "\n",
        "* A team is more likely to run on 3rd Down & 1\n",
        "* A team is more likely to pass on 3rd Down and 2-10\n",
        "* A team that is losing increases their chance of passing by about 10 percentage points for all 3rd Down attempts.\n",
        "\n"
      ]
    }
  ]
}